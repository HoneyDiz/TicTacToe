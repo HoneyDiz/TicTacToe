{
 "cells": [
  {
   "cell_type": "code",
   "execution_count": 1,
   "id": "2d4bdba2",
   "metadata": {},
   "outputs": [],
   "source": [
    "from IPython.display import clear_output\n",
    "\n",
    "def display_board(board):\n",
    "    board = f'[{board[0]}|{board[1]}|{board[2]}]\\n[{board[3]}|{board[4]}|{board[5]}]\\n[{board[6]}|{board[7]}|{board[8]}]'\n",
    "    print('Here is the current board')\n",
    "    print(board)"
   ]
  },
  {
   "cell_type": "code",
   "execution_count": 15,
   "id": "c2429691",
   "metadata": {},
   "outputs": [],
   "source": [
    "def player_input():\n",
    "    player1 = 'none'\n",
    "    player2 = 'none'\n",
    "    accepted = ['O','X']\n",
    "    while player1 not in accepted:\n",
    "        player1 = input('Please choose either X or O for your input: ')\n",
    "        if player1 == 'O':\n",
    "            player2 = 'X'\n",
    "            print(f'You have chosen {player1}, Player two is {player2}')\n",
    "        elif player1 == 'X':\n",
    "            player2 = 'O'\n",
    "            print(f'You have chosen {player1}, Player two is {player2}')\n",
    "    return player1, player2"
   ]
  },
  {
   "cell_type": "code",
   "execution_count": 3,
   "id": "3af9a8d0",
   "metadata": {},
   "outputs": [],
   "source": [
    "def place_marker(board, marker, position):\n",
    "    if position == '7':\n",
    "        board[0] = marker\n",
    "    elif position == '8':\n",
    "        board[1] = marker\n",
    "    elif position == '9':\n",
    "        board[2] = marker\n",
    "    elif position == '4':\n",
    "        board[3] = marker\n",
    "    elif position == '5':\n",
    "        board[4] = marker\n",
    "    elif position == '6':\n",
    "        board[5] = marker\n",
    "    elif position == '1':\n",
    "        board[6] = marker\n",
    "    elif position == '2':\n",
    "        board[7] = marker\n",
    "    elif position == '3':\n",
    "        board[8] = marker"
   ]
  },
  {
   "cell_type": "code",
   "execution_count": 4,
   "id": "5a7081bd",
   "metadata": {},
   "outputs": [],
   "source": [
    "def win_check(board, mark):\n",
    "    win = 'blank'\n",
    "    \n",
    "    if board[0] == mark and board[1] == mark and board[2] == mark:\n",
    "        win = True\n",
    "    elif board[3] == mark and board[4] == mark and board[5] == mark:\n",
    "        win = True\n",
    "    elif board[6] == mark and board[7] == mark and board[8] == mark:\n",
    "        win = True\n",
    "    elif board[0] == mark and board[3] == mark and board[6] == mark:\n",
    "        win = True\n",
    "    elif board[1] == mark and board[4] == mark and board[7] == mark:\n",
    "        win = True\n",
    "    elif board[2] == mark and board[5] == mark and board[8] == mark:\n",
    "        win = True\n",
    "    elif board[0] == mark and board[4] == mark and board[8] == mark:\n",
    "        win = True\n",
    "    elif board[2] == mark and board[4] == mark and board[6] == mark:\n",
    "        win = True\n",
    "    else:\n",
    "        pass\n",
    "    return win\n"
   ]
  },
  {
   "cell_type": "code",
   "execution_count": 18,
   "id": "3ecf89e9",
   "metadata": {},
   "outputs": [],
   "source": [
    "import random\n",
    "\n",
    "def choose_first():\n",
    "    first_check = random.randint(1,2)\n",
    "    first_turn = 'blank'\n",
    "    \n",
    "    if first_check == 1:\n",
    "        first_turn = 'O'\n",
    "        return first_turn \n",
    "        print(f\"Player '{first_turn}' is going first\")\n",
    "    else:\n",
    "        first_turn = 'X'\n",
    "        return first_turn\n",
    "        print(f\"Player '{first_turn}' is going first\")"
   ]
  },
  {
   "cell_type": "code",
   "execution_count": 46,
   "id": "b92d8ace",
   "metadata": {},
   "outputs": [
    {
     "ename": "SyntaxError",
     "evalue": "invalid syntax (Temp/ipykernel_11096/2523148317.py, line 5)",
     "output_type": "error",
     "traceback": [
      "\u001b[1;36m  File \u001b[1;32m\"C:\\Users\\Dizzy\\AppData\\Local\\Temp/ipykernel_11096/2523148317.py\"\u001b[1;36m, line \u001b[1;32m5\u001b[0m\n\u001b[1;33m    if position in validate not in :\u001b[0m\n\u001b[1;37m                                   ^\u001b[0m\n\u001b[1;31mSyntaxError\u001b[0m\u001b[1;31m:\u001b[0m invalid syntax\n"
     ]
    }
   ],
   "source": [
    "def space_check(board, position):\n",
    "    check = 'blank'\n",
    "    validate = ['7','8','9','4','5','6','1','2','3']\n",
    "    xo = ['X','O']\n",
    "    if position in validate:\n",
    "        return True\n",
    "    else:\n",
    "        return False\n"
   ]
  },
  {
   "cell_type": "code",
   "execution_count": 7,
   "id": "7db35ba7",
   "metadata": {},
   "outputs": [],
   "source": [
    "def full_board_check(board):\n",
    "    validate = ['7','8','9','4','5','6','1','2','3']\n",
    "    board_full = False\n",
    "    \n",
    "    if board[0] != '7' and board[1] != '8' and board[2] != '9' and board[3] != '4' and board[4] != '5' and board[5] != '6' and board[6] != '1' and board[7] != '2' and board[8] != '3':\n",
    "        board_full = True\n",
    "    else:\n",
    "        False\n",
    "    return board_full"
   ]
  },
  {
   "cell_type": "code",
   "execution_count": 13,
   "id": "2c93b32d",
   "metadata": {},
   "outputs": [],
   "source": [
    "def player_choice(board):\n",
    "    position = 'blank'\n",
    "    accepted = ['7','8','9','4','5','6','1','2','3']\n",
    "    display_board(board)\n",
    "    while position not in accepted:\n",
    "        position = input('Please pick a number from the board to select where to place your marker: ')\n",
    "    return position\n",
    "    "
   ]
  },
  {
   "cell_type": "code",
   "execution_count": 9,
   "id": "e77e4a7d",
   "metadata": {},
   "outputs": [],
   "source": [
    "def replay():\n",
    "    choice = 'blank'\n",
    "    while choice not in ['Y','N']:\n",
    "        choice = input(\"Would you like to keep playing? Y or N: \")        \n",
    "        if choice not in ['Y','N']:         \n",
    "            print(\"Sorry, please make sure to choose Y or N: \") \n",
    "    if choice == \"Y\":\n",
    "        return True\n",
    "    else:\n",
    "        return False"
   ]
  },
  {
   "cell_type": "code",
   "execution_count": 10,
   "id": "429537fa",
   "metadata": {
    "scrolled": true
   },
   "outputs": [],
   "source": [
    "def reset():\n",
    "    game_on = True\n",
    "    board = ['7','8','9','4','5','6','1','2','3']\n",
    "    #player chooses X or O\n",
    "    player_input()\n",
    "    #randomly decides who's first\n",
    "    choose_first()\n",
    "    first_turn = choose_first()\n",
    "    if first_turn == 'O':\n",
    "        second_turn = 'X'\n",
    "    else:\n",
    "        second_turn = 'O'"
   ]
  },
  {
   "cell_type": "code",
   "execution_count": 17,
   "id": "3eee45d9",
   "metadata": {},
   "outputs": [
    {
     "name": "stdout",
     "output_type": "stream",
     "text": [
      "Here is the current board\n",
      "[O|8|9]\n",
      "[O|X|6]\n",
      "[O|X|3]\n",
      "Player 2 has won the game\n",
      "Would you like to keep playing? Y or N: N\n"
     ]
    }
   ],
   "source": [
    "print('Welcome to Tic Tac Toe!')\n",
    "#Game set up\n",
    "game_on = True\n",
    "board = ['7','8','9','4','5','6','1','2','3']\n",
    "#player chooses X or O\n",
    "player_input()\n",
    "#randomly decides who's first\n",
    "choose_first()\n",
    "first_turn = choose_first()\n",
    "if first_turn == 'O':\n",
    "    second_turn = 'X'\n",
    "else:\n",
    "    second_turn = 'O'\n",
    "while game_on:\n",
    "    clear_output()\n",
    "    print(f'The player with the marker {first_turn} is going first')\n",
    "    #Player 1 Turn\n",
    "    print(f\"It is currently Player 1's turn, your marker is {first_turn}\")\n",
    "    p1p = player_choice(board)\n",
    "    place_marker(board, first_turn, p1p)\n",
    "    p1_have_won = win_check(board, first_turn)\n",
    "    if p1_have_won == True:\n",
    "        clear_output()\n",
    "        display_board(board)\n",
    "        print('Player 1 has won the game')\n",
    "        if not replay():\n",
    "            break\n",
    "        else:\n",
    "            reset()\n",
    "    else:\n",
    "        pass\n",
    "    full_board = full_board_check(board)\n",
    "    if full_board == True:\n",
    "        display_board(board)\n",
    "        print(\"The board has filled, no one has won this time\")\n",
    "        if not replay():\n",
    "            break\n",
    "        else:\n",
    "            reset()\n",
    "    else:\n",
    "        pass\n",
    "        \n",
    "    # Player2's turn.\n",
    "    clear_output()\n",
    "    print(f\"It is currently Player 2's turn, your marker is {second_turn}\")\n",
    "    p2p = player_choice(board)\n",
    "    place_marker(board, second_turn, p2p)\n",
    "    p2_have_won = win_check(board, second_turn)\n",
    "    if p2_have_won == True:\n",
    "        clear_output()\n",
    "        display_board(board)\n",
    "        print('Player 2 has won the game')\n",
    "        if not replay():\n",
    "            break\n",
    "        else: \n",
    "            reset()\n",
    "    else:\n",
    "        pass\n",
    "    full_board = full_board_check(board)\n",
    "    if full_board == True:\n",
    "        display_board(board)\n",
    "        print(\"The board has filled, no one has won this time\")\n",
    "        if not replay:\n",
    "            break\n",
    "        else:\n",
    "            reset()\n",
    "    else:\n",
    "        pass\n",
    "    pass"
   ]
  },
  {
   "cell_type": "code",
   "execution_count": 18,
   "id": "2cf0a976",
   "metadata": {},
   "outputs": [
    {
     "name": "stdout",
     "output_type": "stream",
     "text": [
      "Here is the current board\n",
      "[O|O|X]\n",
      "[4|5|6]\n",
      "[1|2|3]\n"
     ]
    },
    {
     "data": {
      "text/plain": [
       "'blank'"
      ]
     },
     "execution_count": 18,
     "metadata": {},
     "output_type": "execute_result"
    }
   ],
   "source": [
    "display_board(board)\n",
    "win_check(board, first_turn)"
   ]
  },
  {
   "cell_type": "code",
   "execution_count": 12,
   "id": "9ef6eea8",
   "metadata": {},
   "outputs": [
    {
     "data": {
      "text/plain": [
       "'O'"
      ]
     },
     "execution_count": 12,
     "metadata": {},
     "output_type": "execute_result"
    }
   ],
   "source": [
    "first_turn"
   ]
  },
  {
   "cell_type": "code",
   "execution_count": 17,
   "id": "e479b872",
   "metadata": {},
   "outputs": [],
   "source": [
    "board = ['O','O','X','4','5','6','1','2','3']"
   ]
  },
  {
   "cell_type": "code",
   "execution_count": 16,
   "id": "644374d9",
   "metadata": {},
   "outputs": [
    {
     "name": "stdout",
     "output_type": "stream",
     "text": [
      "Please choose either X or O for your input: 1\n",
      "Please choose either X or O for your input: 2\n",
      "Please choose either X or O for your input: X\n",
      "You have chosen X, Player two is O\n"
     ]
    },
    {
     "data": {
      "text/plain": [
       "('X', 'O')"
      ]
     },
     "execution_count": 16,
     "metadata": {},
     "output_type": "execute_result"
    }
   ],
   "source": [
    "player_input()"
   ]
  },
  {
   "cell_type": "code",
   "execution_count": 44,
   "id": "d816c5c6",
   "metadata": {},
   "outputs": [],
   "source": [
    "def player_choice_test(board):\n",
    "    position = 'blank'\n",
    "    check = 'blank'\n",
    "    accepted = ['7','8','9','4','5','6','1','2','3']\n",
    "    display_board(board)\n",
    "    while position not in accepted:\n",
    "        position = input('Please pick a number from the board to select where to place your marker: ')\n",
    "        check = space_check(board, position)\n",
    "        if check == True:\n",
    "            return position\n",
    "        else:\n",
    "            pass\n",
    "    \n",
    "    "
   ]
  },
  {
   "cell_type": "code",
   "execution_count": 45,
   "id": "c01d74fa",
   "metadata": {},
   "outputs": [
    {
     "name": "stdout",
     "output_type": "stream",
     "text": [
      "Here is the current board\n",
      "[X|8|9]\n",
      "[4|5|6]\n",
      "[1|2|3]\n",
      "Please pick a number from the board to select where to place your marker: 7\n"
     ]
    },
    {
     "ename": "TypeError",
     "evalue": "list indices must be integers or slices, not str",
     "output_type": "error",
     "traceback": [
      "\u001b[1;31m---------------------------------------------------------------------------\u001b[0m",
      "\u001b[1;31mTypeError\u001b[0m                                 Traceback (most recent call last)",
      "\u001b[1;32m~\\AppData\\Local\\Temp/ipykernel_11096/1745551886.py\u001b[0m in \u001b[0;36m<module>\u001b[1;34m\u001b[0m\n\u001b[1;32m----> 1\u001b[1;33m \u001b[0mplayer_choice_test\u001b[0m\u001b[1;33m(\u001b[0m\u001b[0mboard\u001b[0m\u001b[1;33m)\u001b[0m\u001b[1;33m\u001b[0m\u001b[1;33m\u001b[0m\u001b[0m\n\u001b[0m",
      "\u001b[1;32m~\\AppData\\Local\\Temp/ipykernel_11096/2402502389.py\u001b[0m in \u001b[0;36mplayer_choice_test\u001b[1;34m(board)\u001b[0m\n\u001b[0;32m      6\u001b[0m     \u001b[1;32mwhile\u001b[0m \u001b[0mposition\u001b[0m \u001b[1;32mnot\u001b[0m \u001b[1;32min\u001b[0m \u001b[0maccepted\u001b[0m\u001b[1;33m:\u001b[0m\u001b[1;33m\u001b[0m\u001b[1;33m\u001b[0m\u001b[0m\n\u001b[0;32m      7\u001b[0m         \u001b[0mposition\u001b[0m \u001b[1;33m=\u001b[0m \u001b[0minput\u001b[0m\u001b[1;33m(\u001b[0m\u001b[1;34m'Please pick a number from the board to select where to place your marker: '\u001b[0m\u001b[1;33m)\u001b[0m\u001b[1;33m\u001b[0m\u001b[1;33m\u001b[0m\u001b[0m\n\u001b[1;32m----> 8\u001b[1;33m         \u001b[0mcheck\u001b[0m \u001b[1;33m=\u001b[0m \u001b[0mspace_check\u001b[0m\u001b[1;33m(\u001b[0m\u001b[0mboard\u001b[0m\u001b[1;33m,\u001b[0m \u001b[0mposition\u001b[0m\u001b[1;33m)\u001b[0m\u001b[1;33m\u001b[0m\u001b[1;33m\u001b[0m\u001b[0m\n\u001b[0m\u001b[0;32m      9\u001b[0m         \u001b[1;32mif\u001b[0m \u001b[0mcheck\u001b[0m \u001b[1;33m==\u001b[0m \u001b[1;32mTrue\u001b[0m\u001b[1;33m:\u001b[0m\u001b[1;33m\u001b[0m\u001b[1;33m\u001b[0m\u001b[0m\n\u001b[0;32m     10\u001b[0m             \u001b[1;32mreturn\u001b[0m \u001b[0mposition\u001b[0m\u001b[1;33m\u001b[0m\u001b[1;33m\u001b[0m\u001b[0m\n",
      "\u001b[1;32m~\\AppData\\Local\\Temp/ipykernel_11096/2661825035.py\u001b[0m in \u001b[0;36mspace_check\u001b[1;34m(board, position)\u001b[0m\n\u001b[0;32m      1\u001b[0m \u001b[1;32mdef\u001b[0m \u001b[0mspace_check\u001b[0m\u001b[1;33m(\u001b[0m\u001b[0mboard\u001b[0m\u001b[1;33m,\u001b[0m \u001b[0mposition\u001b[0m\u001b[1;33m)\u001b[0m\u001b[1;33m:\u001b[0m\u001b[1;33m\u001b[0m\u001b[1;33m\u001b[0m\u001b[0m\n\u001b[0;32m      2\u001b[0m     \u001b[0mvalidate\u001b[0m \u001b[1;33m=\u001b[0m \u001b[1;33m[\u001b[0m\u001b[1;34m'7'\u001b[0m\u001b[1;33m,\u001b[0m\u001b[1;34m'8'\u001b[0m\u001b[1;33m,\u001b[0m\u001b[1;34m'9'\u001b[0m\u001b[1;33m,\u001b[0m\u001b[1;34m'4'\u001b[0m\u001b[1;33m,\u001b[0m\u001b[1;34m'5'\u001b[0m\u001b[1;33m,\u001b[0m\u001b[1;34m'6'\u001b[0m\u001b[1;33m,\u001b[0m\u001b[1;34m'1'\u001b[0m\u001b[1;33m,\u001b[0m\u001b[1;34m'2'\u001b[0m\u001b[1;33m,\u001b[0m\u001b[1;34m'3'\u001b[0m\u001b[1;33m]\u001b[0m\u001b[1;33m\u001b[0m\u001b[1;33m\u001b[0m\u001b[0m\n\u001b[1;32m----> 3\u001b[1;33m     \u001b[1;32mreturn\u001b[0m \u001b[0mboard\u001b[0m\u001b[1;33m[\u001b[0m\u001b[0mposition\u001b[0m\u001b[1;33m]\u001b[0m \u001b[1;32min\u001b[0m \u001b[0mvalidate\u001b[0m\u001b[1;33m\u001b[0m\u001b[1;33m\u001b[0m\u001b[0m\n\u001b[0m",
      "\u001b[1;31mTypeError\u001b[0m: list indices must be integers or slices, not str"
     ]
    }
   ],
   "source": [
    "player_choice_test(board)"
   ]
  },
  {
   "cell_type": "code",
   "execution_count": null,
   "id": "08c3c2e3",
   "metadata": {},
   "outputs": [],
   "source": []
  },
  {
   "cell_type": "code",
   "execution_count": 35,
   "id": "15919216",
   "metadata": {},
   "outputs": [],
   "source": [
    "board = ['X','8','9','4','5','6','1','2','3']"
   ]
  },
  {
   "cell_type": "code",
   "execution_count": null,
   "id": "60d1bd69",
   "metadata": {},
   "outputs": [],
   "source": []
  }
 ],
 "metadata": {
  "kernelspec": {
   "display_name": "Python 3 (ipykernel)",
   "language": "python",
   "name": "python3"
  },
  "language_info": {
   "codemirror_mode": {
    "name": "ipython",
    "version": 3
   },
   "file_extension": ".py",
   "mimetype": "text/x-python",
   "name": "python",
   "nbconvert_exporter": "python",
   "pygments_lexer": "ipython3",
   "version": "3.9.7"
  }
 },
 "nbformat": 4,
 "nbformat_minor": 5
}
